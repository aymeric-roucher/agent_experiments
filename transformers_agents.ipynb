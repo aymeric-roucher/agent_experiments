{
 "cells": [
  {
   "cell_type": "code",
   "execution_count": 1,
   "metadata": {},
   "outputs": [
    {
     "name": "stdout",
     "output_type": "stream",
     "text": [
      "\n",
      "\u001b[1m[\u001b[0m\u001b[34;49mnotice\u001b[0m\u001b[1;39;49m]\u001b[0m\u001b[39;49m A new release of pip is available: \u001b[0m\u001b[31;49m23.3.1\u001b[0m\u001b[39;49m -> \u001b[0m\u001b[32;49m24.0\u001b[0m\n",
      "\u001b[1m[\u001b[0m\u001b[34;49mnotice\u001b[0m\u001b[1;39;49m]\u001b[0m\u001b[39;49m To update, run: \u001b[0m\u001b[32;49mpip install --upgrade pip\u001b[0m\n"
     ]
    }
   ],
   "source": [
    "!pip install -q langchain numexpr sentencepiece plotly diffusers"
   ]
  },
  {
   "cell_type": "code",
   "execution_count": 2,
   "metadata": {},
   "outputs": [],
   "source": [
    "%reload_ext autoreload\n",
    "%autoreload 2"
   ]
  },
  {
   "cell_type": "code",
   "execution_count": 3,
   "metadata": {},
   "outputs": [],
   "source": [
    "from langchain.agents import load_tools\n",
    "from langchain.chat_models import ChatHuggingFace, ChatOpenAI\n",
    "from langchain_core.tools import Tool\n",
    "import numpy as np\n",
    "import pandas as pd\n",
    "from dotenv import load_dotenv\n",
    "\n",
    "load_dotenv(override=True)\n",
    "\n",
    "from scripts.modified_calculator import LLMMathChain\n",
    "from scripts.run_agents import answer_questions"
   ]
  },
  {
   "cell_type": "code",
   "execution_count": 4,
   "metadata": {},
   "outputs": [],
   "source": [
    "OPENAI_MODEL_ID = \"gpt-4-0125-preview\""
   ]
  },
  {
   "cell_type": "code",
   "execution_count": 5,
   "metadata": {},
   "outputs": [],
   "source": [
    "from scripts.evaluation import load_benchmark\n",
    "import datasets\n",
    "\n",
    "eval_df = load_benchmark()\n",
    "eval_df[\"true_answer\"] = eval_df[\"true_answer\"].astype(str)\n",
    "eval_ds = datasets.Dataset.from_pandas(eval_df)\n",
    "\n",
    "OUTPUT_DIR = \"output\""
   ]
  },
  {
   "cell_type": "code",
   "execution_count": 6,
   "metadata": {},
   "outputs": [
    {
     "name": "stdout",
     "output_type": "stream",
     "text": [
      "Token will not been saved to git credential helper. Pass `add_to_git_credential=True` if you want to set the git credential as well.\n",
      "Token is valid (permission: read).\n",
      "Your token has been saved to /Users/aymeric/.cache/huggingface/token\n",
      "Login successful\n"
     ]
    },
    {
     "data": {
      "text/plain": [
       "' To multiply 2 by the number 3.6452, you can simply multiply each digit of 2 by each digit of 3.6452 and sum up the results. However, since 2 is a single digit number, you can just multiply it by each digit of 3.6452 and sum up the results:\\n\\n2 \\\\* 3 = 6\\n2 \\\\* 6 = 12 (remember to carry the \"1\" to the next digit)\\n2 \\\\* 4 = 8 (add the carried \"1\" to this digit, making it 9)\\n2 \\\\* 5 = 10 (add the carried \"1\" to this digit, making it 11, but since we only have one digit after the decimal point, we need to round it to the nearest whole number, so the final result is 7.6452, but since we only want to keep 4 decimal places, we round it to 7.6452)\\n\\nTherefore, 2 \\\\* 3.6452 = 7.6452.'"
      ]
     },
     "execution_count": 6,
     "metadata": {},
     "output_type": "execute_result"
    }
   ],
   "source": [
    "from langchain_community.llms import HuggingFaceEndpoint\n",
    "from langchain.chat_models import ChatHuggingFace\n",
    "\n",
    "llm = HuggingFaceEndpoint(\n",
    "    repo_id=\"mistralai/Mixtral-8x7B-Instruct-v0.1\",\n",
    "    max_new_tokens=3000,\n",
    ")\n",
    "llm_engine = ChatHuggingFace(llm=llm)\n",
    "\n",
    "\n",
    "def call_llm(input: str, stop=[\"Observation\", \"Final Answer\"]) -> str:\n",
    "    return llm_engine.invoke(input, stop=stop).content\n",
    "\n",
    "\n",
    "call_llm(\"I should multiply 2 by 3.6452.\")"
   ]
  },
  {
   "cell_type": "markdown",
   "metadata": {},
   "source": [
    "### Define tools"
   ]
  },
  {
   "cell_type": "code",
   "execution_count": 7,
   "metadata": {},
   "outputs": [],
   "source": [
    "from transformers.tools.base import CalculatorTool, Tool\n",
    "\n",
    "from langchain_community.utilities import SerpAPIWrapper\n",
    "\n",
    "params = {\n",
    "    \"engine\": \"bing\",\n",
    "    \"gl\": \"us\",\n",
    "    \"hl\": \"en\",\n",
    "}\n",
    "langchain_serpapi = SerpAPIWrapper(params=params)\n",
    "\n",
    "\n",
    "class SearchTool(Tool):\n",
    "    name = \"search\"\n",
    "    description = \"Search the web for information.\"\n",
    "\n",
    "    inputs = {\"query\": str}\n",
    "    outputs = [str]\n",
    "\n",
    "    def __call__(self, query: str) -> str:\n",
    "        return langchain_serpapi.run(query)"
   ]
  },
  {
   "cell_type": "code",
   "execution_count": 8,
   "metadata": {},
   "outputs": [],
   "source": [
    "search = SearchTool()"
   ]
  },
  {
   "cell_type": "code",
   "execution_count": 9,
   "metadata": {},
   "outputs": [],
   "source": [
    "TOOLBOX = [CalculatorTool(), SearchTool()]"
   ]
  },
  {
   "cell_type": "markdown",
   "metadata": {},
   "source": [
    "# Define agents"
   ]
  },
  {
   "cell_type": "code",
   "execution_count": 10,
   "metadata": {},
   "outputs": [
    {
     "name": "stderr",
     "output_type": "stream",
     "text": [
      "\n",
      "No function template is defined for this tokenizer - using a default function template that implements the ChatML format (without BOS/EOS tokens!). If the default is not appropriate for your model, please set `tokenizer.tool_description_template` to an appropriate template. \n"
     ]
    }
   ],
   "source": [
    "from transformers import CodeAgent, ReactAgent\n",
    "\n",
    "code_agent = CodeAgent(llm_callable=call_llm, toolbox=TOOLBOX)\n",
    "react_agent = ReactAgent(llm_callable=call_llm, toolbox=TOOLBOX)\n",
    "\n",
    "agents = {\n",
    "    \"code\": code_agent,\n",
    "    \"react\": react_agent,\n",
    "}"
   ]
  },
  {
   "cell_type": "code",
   "execution_count": 11,
   "metadata": {},
   "outputs": [],
   "source": [
    "async def call_transformers(agent, question: str) -> str:\n",
    "    result = agent.run(question)\n",
    "    return {\n",
    "        \"output\": str(result),\n",
    "        \"intermediate_steps\": agent.messages.copy(),\n",
    "    }\n",
    "\n",
    "\n",
    "# await answer_questions(\n",
    "#     eval_ds,\n",
    "#     code_agent,\n",
    "#     \"code_agent\",\n",
    "#     output_folder=OUTPUT_DIR,\n",
    "#     agent_call_function=call_transformers,\n",
    "#     key_for_answer=\"true_answer\",\n",
    "# )"
   ]
  },
  {
   "cell_type": "code",
   "execution_count": 12,
   "metadata": {},
   "outputs": [
    {
     "name": "stderr",
     "output_type": "stream",
     "text": [
      "100%|██████████| 90/90 [00:00<00:00, 11961.70it/s]\n",
      "100%|██████████| 90/90 [00:00<00:00, 13313.84it/s]\n"
     ]
    },
    {
     "data": {
      "text/html": [
       "<div>\n",
       "<style scoped>\n",
       "    .dataframe tbody tr th:only-of-type {\n",
       "        vertical-align: middle;\n",
       "    }\n",
       "\n",
       "    .dataframe tbody tr th {\n",
       "        vertical-align: top;\n",
       "    }\n",
       "\n",
       "    .dataframe thead th {\n",
       "        text-align: right;\n",
       "    }\n",
       "</style>\n",
       "<table border=\"1\" class=\"dataframe\">\n",
       "  <thead>\n",
       "    <tr style=\"text-align: right;\">\n",
       "      <th></th>\n",
       "      <th>agent_name</th>\n",
       "      <th>question</th>\n",
       "      <th>prediction</th>\n",
       "      <th>intermediate_steps</th>\n",
       "      <th>parsing_error</th>\n",
       "      <th>iteration_limit_exceeded</th>\n",
       "      <th>agent_error</th>\n",
       "      <th>start_time</th>\n",
       "      <th>end_time</th>\n",
       "      <th>gt_answer</th>\n",
       "      <th>task</th>\n",
       "    </tr>\n",
       "  </thead>\n",
       "  <tbody>\n",
       "    <tr>\n",
       "      <th>0</th>\n",
       "      <td>code</td>\n",
       "      <td>Mimi picked up 2 dozen seashells on the beach....</td>\n",
       "      <td>16.0</td>\n",
       "      <td>[]</td>\n",
       "      <td>False</td>\n",
       "      <td>False</td>\n",
       "      <td>None</td>\n",
       "      <td>2024-03-05 15:45:14</td>\n",
       "      <td>2024-03-05 15:45:22</td>\n",
       "      <td>16.0</td>\n",
       "      <td>gsm8k</td>\n",
       "    </tr>\n",
       "    <tr>\n",
       "      <th>1</th>\n",
       "      <td>code</td>\n",
       "      <td>Frankie's parents let him have many pets. He h...</td>\n",
       "      <td>None</td>\n",
       "      <td>[]</td>\n",
       "      <td>False</td>\n",
       "      <td>False</td>\n",
       "      <td>None</td>\n",
       "      <td>2024-03-05 15:45:22</td>\n",
       "      <td>2024-03-05 15:45:34</td>\n",
       "      <td>19.0</td>\n",
       "      <td>gsm8k</td>\n",
       "    </tr>\n",
       "    <tr>\n",
       "      <th>2</th>\n",
       "      <td>code</td>\n",
       "      <td>Olaf collects colorful toy cars. At first, his...</td>\n",
       "      <td>None</td>\n",
       "      <td>[]</td>\n",
       "      <td>False</td>\n",
       "      <td>False</td>\n",
       "      <td>None</td>\n",
       "      <td>2024-03-05 15:45:34</td>\n",
       "      <td>2024-03-05 15:45:41</td>\n",
       "      <td>196.0</td>\n",
       "      <td>gsm8k</td>\n",
       "    </tr>\n",
       "    <tr>\n",
       "      <th>3</th>\n",
       "      <td>code</td>\n",
       "      <td>Emma's bank account has $100 in it. Each day o...</td>\n",
       "      <td>4</td>\n",
       "      <td>[]</td>\n",
       "      <td>False</td>\n",
       "      <td>False</td>\n",
       "      <td>None</td>\n",
       "      <td>2024-03-05 15:45:41</td>\n",
       "      <td>2024-03-05 15:45:48</td>\n",
       "      <td>4.0</td>\n",
       "      <td>gsm8k</td>\n",
       "    </tr>\n",
       "    <tr>\n",
       "      <th>4</th>\n",
       "      <td>code</td>\n",
       "      <td>Ezekiel hikes as a hobby. This past summer, he...</td>\n",
       "      <td>25.0</td>\n",
       "      <td>[]</td>\n",
       "      <td>False</td>\n",
       "      <td>False</td>\n",
       "      <td>None</td>\n",
       "      <td>2024-03-05 15:45:48</td>\n",
       "      <td>2024-03-05 15:45:53</td>\n",
       "      <td>15.0</td>\n",
       "      <td>gsm8k</td>\n",
       "    </tr>\n",
       "    <tr>\n",
       "      <th>...</th>\n",
       "      <td>...</td>\n",
       "      <td>...</td>\n",
       "      <td>...</td>\n",
       "      <td>...</td>\n",
       "      <td>...</td>\n",
       "      <td>...</td>\n",
       "      <td>...</td>\n",
       "      <td>...</td>\n",
       "      <td>...</td>\n",
       "      <td>...</td>\n",
       "      <td>...</td>\n",
       "    </tr>\n",
       "    <tr>\n",
       "      <th>175</th>\n",
       "      <td>react</td>\n",
       "      <td>How many at bats did the Yankee with the most ...</td>\n",
       "      <td>None</td>\n",
       "      <td>[{'role': 'user', 'content': 'Solve the follow...</td>\n",
       "      <td>False</td>\n",
       "      <td>False</td>\n",
       "      <td>None</td>\n",
       "      <td>2024-03-05 18:11:53</td>\n",
       "      <td>2024-03-05 18:12:17</td>\n",
       "      <td>519</td>\n",
       "      <td>GAIA</td>\n",
       "    </tr>\n",
       "    <tr>\n",
       "      <th>176</th>\n",
       "      <td>react</td>\n",
       "      <td>In Audre Lorde’s poem “Father Son and Holy Gho...</td>\n",
       "      <td>None</td>\n",
       "      <td>[{'role': 'user', 'content': 'Solve the follow...</td>\n",
       "      <td>False</td>\n",
       "      <td>False</td>\n",
       "      <td>None</td>\n",
       "      <td>2024-03-05 18:12:17</td>\n",
       "      <td>2024-03-05 18:12:44</td>\n",
       "      <td>2</td>\n",
       "      <td>GAIA</td>\n",
       "    </tr>\n",
       "    <tr>\n",
       "      <th>177</th>\n",
       "      <td>react</td>\n",
       "      <td>Where were the Vietnamese specimens described ...</td>\n",
       "      <td>St. Petersburg</td>\n",
       "      <td>[{'role': 'user', 'content': 'Solve the follow...</td>\n",
       "      <td>False</td>\n",
       "      <td>False</td>\n",
       "      <td>None</td>\n",
       "      <td>2024-03-05 18:12:44</td>\n",
       "      <td>2024-03-05 18:13:03</td>\n",
       "      <td>Saint Petersburg</td>\n",
       "      <td>GAIA</td>\n",
       "    </tr>\n",
       "    <tr>\n",
       "      <th>178</th>\n",
       "      <td>react</td>\n",
       "      <td>What country had the least number of athletes ...</td>\n",
       "      <td>None</td>\n",
       "      <td>[{'role': 'user', 'content': 'Solve the follow...</td>\n",
       "      <td>False</td>\n",
       "      <td>False</td>\n",
       "      <td>None</td>\n",
       "      <td>2024-03-05 18:13:03</td>\n",
       "      <td>2024-03-05 18:13:38</td>\n",
       "      <td>CUB</td>\n",
       "      <td>GAIA</td>\n",
       "    </tr>\n",
       "    <tr>\n",
       "      <th>179</th>\n",
       "      <td>react</td>\n",
       "      <td>What is the first name of the only Malko Compe...</td>\n",
       "      <td>None</td>\n",
       "      <td>[{'role': 'user', 'content': 'Solve the follow...</td>\n",
       "      <td>False</td>\n",
       "      <td>False</td>\n",
       "      <td>None</td>\n",
       "      <td>2024-03-05 18:13:38</td>\n",
       "      <td>2024-03-05 18:14:11</td>\n",
       "      <td>Claus</td>\n",
       "      <td>GAIA</td>\n",
       "    </tr>\n",
       "  </tbody>\n",
       "</table>\n",
       "<p>180 rows × 11 columns</p>\n",
       "</div>"
      ],
      "text/plain": [
       "    agent_name                                           question  \\\n",
       "0         code  Mimi picked up 2 dozen seashells on the beach....   \n",
       "1         code  Frankie's parents let him have many pets. He h...   \n",
       "2         code  Olaf collects colorful toy cars. At first, his...   \n",
       "3         code  Emma's bank account has $100 in it. Each day o...   \n",
       "4         code  Ezekiel hikes as a hobby. This past summer, he...   \n",
       "..         ...                                                ...   \n",
       "175      react  How many at bats did the Yankee with the most ...   \n",
       "176      react  In Audre Lorde’s poem “Father Son and Holy Gho...   \n",
       "177      react  Where were the Vietnamese specimens described ...   \n",
       "178      react  What country had the least number of athletes ...   \n",
       "179      react  What is the first name of the only Malko Compe...   \n",
       "\n",
       "         prediction                                 intermediate_steps  \\\n",
       "0              16.0                                                 []   \n",
       "1              None                                                 []   \n",
       "2              None                                                 []   \n",
       "3                 4                                                 []   \n",
       "4              25.0                                                 []   \n",
       "..              ...                                                ...   \n",
       "175            None  [{'role': 'user', 'content': 'Solve the follow...   \n",
       "176            None  [{'role': 'user', 'content': 'Solve the follow...   \n",
       "177  St. Petersburg  [{'role': 'user', 'content': 'Solve the follow...   \n",
       "178            None  [{'role': 'user', 'content': 'Solve the follow...   \n",
       "179            None  [{'role': 'user', 'content': 'Solve the follow...   \n",
       "\n",
       "     parsing_error  iteration_limit_exceeded agent_error           start_time  \\\n",
       "0            False                     False        None  2024-03-05 15:45:14   \n",
       "1            False                     False        None  2024-03-05 15:45:22   \n",
       "2            False                     False        None  2024-03-05 15:45:34   \n",
       "3            False                     False        None  2024-03-05 15:45:41   \n",
       "4            False                     False        None  2024-03-05 15:45:48   \n",
       "..             ...                       ...         ...                  ...   \n",
       "175          False                     False        None  2024-03-05 18:11:53   \n",
       "176          False                     False        None  2024-03-05 18:12:17   \n",
       "177          False                     False        None  2024-03-05 18:12:44   \n",
       "178          False                     False        None  2024-03-05 18:13:03   \n",
       "179          False                     False        None  2024-03-05 18:13:38   \n",
       "\n",
       "                end_time         gt_answer   task  \n",
       "0    2024-03-05 15:45:22              16.0  gsm8k  \n",
       "1    2024-03-05 15:45:34              19.0  gsm8k  \n",
       "2    2024-03-05 15:45:41             196.0  gsm8k  \n",
       "3    2024-03-05 15:45:48               4.0  gsm8k  \n",
       "4    2024-03-05 15:45:53              15.0  gsm8k  \n",
       "..                   ...               ...    ...  \n",
       "175  2024-03-05 18:12:17               519   GAIA  \n",
       "176  2024-03-05 18:12:44                 2   GAIA  \n",
       "177  2024-03-05 18:13:03  Saint Petersburg   GAIA  \n",
       "178  2024-03-05 18:13:38               CUB   GAIA  \n",
       "179  2024-03-05 18:14:11             Claus   GAIA  \n",
       "\n",
       "[180 rows x 11 columns]"
      ]
     },
     "execution_count": 12,
     "metadata": {},
     "output_type": "execute_result"
    }
   ],
   "source": [
    "from scripts.run_agents import run_full_tests\n",
    "\n",
    "await run_full_tests(\n",
    "    eval_ds,\n",
    "    agents,\n",
    "    output_folder=OUTPUT_DIR,\n",
    "    agent_call_function=call_transformers,\n",
    "    key_for_answer=\"true_answer\",\n",
    ")"
   ]
  },
  {
   "cell_type": "markdown",
   "metadata": {},
   "source": [
    "# Evaluate"
   ]
  },
  {
   "cell_type": "code",
   "execution_count": 23,
   "metadata": {},
   "outputs": [],
   "source": [
    "import glob\n",
    "\n",
    "answer_file_path = f\"{OUTPUT_DIR}/answers.jsonl\"\n",
    "\n",
    "result_df = pd.concat([pd.read_json(f) for f in glob.glob(f\"{OUTPUT_DIR}/*.json\")])\n",
    "result_df = result_df.drop(columns=[\"start_time\", \"end_time\"])\n",
    "result_df.to_json(answer_file_path, lines=True, orient=\"records\")"
   ]
  },
  {
   "cell_type": "markdown",
   "metadata": {},
   "source": [
    "### Exact match for GSM8K"
   ]
  },
  {
   "cell_type": "code",
   "execution_count": 24,
   "metadata": {},
   "outputs": [],
   "source": [
    "from scripts.evaluation import score_any_match\n",
    "\n",
    "results_math = result_df.loc[result_df[\"task\"] == \"gsm8k\"].copy()\n",
    "results_math[\"exact_match\"] = -1\n",
    "results_math[\"exact_match\"] = results_math.apply(\n",
    "    lambda row: score_any_match(row[\"prediction\"], float(row[\"gt_answer\"])), axis=1\n",
    ")"
   ]
  },
  {
   "cell_type": "code",
   "execution_count": 25,
   "metadata": {},
   "outputs": [
    {
     "data": {
      "text/plain": [
       "agent_name\n",
       "code          40\n",
       "react         40\n",
       "react_prev    40\n",
       "Name: count, dtype: int64"
      ]
     },
     "execution_count": 25,
     "metadata": {},
     "output_type": "execute_result"
    }
   ],
   "source": [
    "results_math[\"agent_name\"].value_counts()"
   ]
  },
  {
   "cell_type": "code",
   "execution_count": 26,
   "metadata": {},
   "outputs": [
    {
     "data": {
      "text/plain": [
       "agent_name  task \n",
       "code        gsm8k    0.675\n",
       "react       gsm8k    0.375\n",
       "react_prev  gsm8k    0.425\n",
       "Name: exact_match, dtype: float64"
      ]
     },
     "execution_count": 26,
     "metadata": {},
     "output_type": "execute_result"
    }
   ],
   "source": [
    "results_math.groupby([\"agent_name\", \"task\"])[\"exact_match\"].mean()"
   ]
  },
  {
   "cell_type": "markdown",
   "metadata": {},
   "source": [
    "### LLM as a judge for others"
   ]
  },
  {
   "cell_type": "code",
   "execution_count": 27,
   "metadata": {},
   "outputs": [],
   "source": [
    "answers = result_df.loc[result_df[\"task\"] != \"gsm8k\"].to_dict(orient=\"records\")"
   ]
  },
  {
   "cell_type": "code",
   "execution_count": 28,
   "metadata": {},
   "outputs": [],
   "source": [
    "from langchain.chat_models import ChatOpenAI\n",
    "\n",
    "eval_chat_model = ChatOpenAI(model=\"gpt-4-1106-preview\", temperature=0)\n",
    "eval_model_name = \"GPT4\""
   ]
  },
  {
   "cell_type": "code",
   "execution_count": 29,
   "metadata": {},
   "outputs": [
    {
     "name": "stdout",
     "output_type": "stream",
     "text": [
      "Previous evaluations:\n",
      "Launching evaluation for 0 examples...\n"
     ]
    },
    {
     "name": "stderr",
     "output_type": "stream",
     "text": [
      "0it [00:00, ?it/s]"
     ]
    },
    {
     "name": "stdout",
     "output_type": "stream",
     "text": [
      "Evaluation is complete!\n"
     ]
    },
    {
     "name": "stderr",
     "output_type": "stream",
     "text": [
      "\n"
     ]
    }
   ],
   "source": [
    "from scripts.evaluation import evaluate_answers\n",
    "from scripts.prompts import EVALUATION_PROMPT_TEMPLATE\n",
    "\n",
    "output_file_path = f\"{OUTPUT_DIR}/evaluation.jsonl\"\n",
    "\n",
    "run_evaluation = True\n",
    "if run_evaluation:\n",
    "    results = await evaluate_answers(\n",
    "        answers,\n",
    "        eval_chat_model,\n",
    "        \"GPT4\",\n",
    "        EVALUATION_PROMPT_TEMPLATE,\n",
    "        output_file_path=output_file_path,\n",
    "    )\n",
    "\n",
    "    print(\"Evaluation is complete!\")"
   ]
  },
  {
   "cell_type": "code",
   "execution_count": 30,
   "metadata": {},
   "outputs": [
    {
     "data": {
      "text/plain": [
       "agent_name\n",
       "code          0.255\n",
       "react         0.345\n",
       "react_prev    0.335\n",
       "Name: eval_score_GPT4, dtype: float64"
      ]
     },
     "execution_count": 30,
     "metadata": {},
     "output_type": "execute_result"
    }
   ],
   "source": [
    "results_nonmath = pd.DataFrame.from_dict(results)\n",
    "\n",
    "\n",
    "def interpret_score(eval_score):\n",
    "    try:\n",
    "        return (float(eval_score) - 1) / 4\n",
    "    except:\n",
    "        return 0\n",
    "\n",
    "\n",
    "results_nonmath[\"eval_score_GPT4\"] = results_nonmath[\"eval_score_GPT4\"].apply(\n",
    "    interpret_score\n",
    ")\n",
    "results_nonmath.groupby(\"agent_name\")[\"eval_score_GPT4\"].mean()"
   ]
  },
  {
   "cell_type": "markdown",
   "metadata": {},
   "source": [
    "### Aggregate both"
   ]
  },
  {
   "cell_type": "code",
   "execution_count": 31,
   "metadata": {},
   "outputs": [
    {
     "data": {
      "text/plain": [
       "agent_name  task    \n",
       "code        GAIA           0.125\n",
       "            HotpotQA    0.341667\n",
       "            gsm8k          0.675\n",
       "react       GAIA          0.1375\n",
       "            HotpotQA    0.483333\n",
       "            gsm8k          0.375\n",
       "react_prev  GAIA          0.0875\n",
       "            HotpotQA         0.5\n",
       "            gsm8k          0.425\n",
       "Name: aggregate_score, dtype: object"
      ]
     },
     "execution_count": 31,
     "metadata": {},
     "output_type": "execute_result"
    }
   ],
   "source": [
    "result_df = pd.concat([results_math, results_nonmath])\n",
    "result_df[\"aggregate_score\"] = result_df[\"exact_match\"].fillna(0) + result_df[\n",
    "    \"eval_score_GPT4\"\n",
    "].fillna(0)\n",
    "result_df.groupby([\"agent_name\", \"task\"])[\"aggregate_score\"].mean()"
   ]
  },
  {
   "cell_type": "markdown",
   "metadata": {},
   "source": [
    "### Display"
   ]
  },
  {
   "cell_type": "code",
   "execution_count": 36,
   "metadata": {},
   "outputs": [
    {
     "name": "stderr",
     "output_type": "stream",
     "text": [
      "/Users/aymeric/venvs/ml/lib/python3.11/site-packages/plotly/express/_core.py:2065: FutureWarning:\n",
      "\n",
      "When grouping with a length-1 list-like, you will need to pass a length-1 tuple to get_group in a future version of pandas. Pass `(name,)` instead of `name` to silence this warning.\n",
      "\n"
     ]
    },
    {
     "data": {
      "application/vnd.plotly.v1+json": {
       "config": {
        "plotlyServerURL": "https://plot.ly"
       },
       "data": [
        {
         "alignmentgroup": "True",
         "hovertemplate": "task=GAIA<br>agent_name=%{x}<br>aggregate_score=%{y}<extra></extra>",
         "legendgroup": "GAIA",
         "marker": {
          "color": "#636efa",
          "pattern": {
           "shape": ""
          }
         },
         "name": "GAIA",
         "offsetgroup": "GAIA",
         "orientation": "v",
         "showlegend": true,
         "textposition": "auto",
         "type": "bar",
         "x": [
          "code",
          "react",
          "react_prev"
         ],
         "xaxis": "x",
         "y": [
          0.125,
          0.1375,
          0.0875
         ],
         "yaxis": "y"
        },
        {
         "alignmentgroup": "True",
         "hovertemplate": "task=HotpotQA<br>agent_name=%{x}<br>aggregate_score=%{y}<extra></extra>",
         "legendgroup": "HotpotQA",
         "marker": {
          "color": "#EF553B",
          "pattern": {
           "shape": ""
          }
         },
         "name": "HotpotQA",
         "offsetgroup": "HotpotQA",
         "orientation": "v",
         "showlegend": true,
         "textposition": "auto",
         "type": "bar",
         "x": [
          "code",
          "react",
          "react_prev"
         ],
         "xaxis": "x",
         "y": [
          0.3416666666666667,
          0.48333333333333334,
          0.5
         ],
         "yaxis": "y"
        },
        {
         "alignmentgroup": "True",
         "hovertemplate": "task=gsm8k<br>agent_name=%{x}<br>aggregate_score=%{y}<extra></extra>",
         "legendgroup": "gsm8k",
         "marker": {
          "color": "#00cc96",
          "pattern": {
           "shape": ""
          }
         },
         "name": "gsm8k",
         "offsetgroup": "gsm8k",
         "orientation": "v",
         "showlegend": true,
         "textposition": "auto",
         "type": "bar",
         "x": [
          "code",
          "react",
          "react_prev"
         ],
         "xaxis": "x",
         "y": [
          0.675,
          0.375,
          0.425
         ],
         "yaxis": "y"
        }
       ],
       "layout": {
        "barmode": "group",
        "legend": {
         "title": {
          "text": "task"
         },
         "tracegroupgap": 0
        },
        "margin": {
         "t": 60
        },
        "template": {
         "data": {
          "bar": [
           {
            "error_x": {
             "color": "#2a3f5f"
            },
            "error_y": {
             "color": "#2a3f5f"
            },
            "marker": {
             "line": {
              "color": "#E5ECF6",
              "width": 0.5
             },
             "pattern": {
              "fillmode": "overlay",
              "size": 10,
              "solidity": 0.2
             }
            },
            "type": "bar"
           }
          ],
          "barpolar": [
           {
            "marker": {
             "line": {
              "color": "#E5ECF6",
              "width": 0.5
             },
             "pattern": {
              "fillmode": "overlay",
              "size": 10,
              "solidity": 0.2
             }
            },
            "type": "barpolar"
           }
          ],
          "carpet": [
           {
            "aaxis": {
             "endlinecolor": "#2a3f5f",
             "gridcolor": "white",
             "linecolor": "white",
             "minorgridcolor": "white",
             "startlinecolor": "#2a3f5f"
            },
            "baxis": {
             "endlinecolor": "#2a3f5f",
             "gridcolor": "white",
             "linecolor": "white",
             "minorgridcolor": "white",
             "startlinecolor": "#2a3f5f"
            },
            "type": "carpet"
           }
          ],
          "choropleth": [
           {
            "colorbar": {
             "outlinewidth": 0,
             "ticks": ""
            },
            "type": "choropleth"
           }
          ],
          "contour": [
           {
            "colorbar": {
             "outlinewidth": 0,
             "ticks": ""
            },
            "colorscale": [
             [
              0,
              "#0d0887"
             ],
             [
              0.1111111111111111,
              "#46039f"
             ],
             [
              0.2222222222222222,
              "#7201a8"
             ],
             [
              0.3333333333333333,
              "#9c179e"
             ],
             [
              0.4444444444444444,
              "#bd3786"
             ],
             [
              0.5555555555555556,
              "#d8576b"
             ],
             [
              0.6666666666666666,
              "#ed7953"
             ],
             [
              0.7777777777777778,
              "#fb9f3a"
             ],
             [
              0.8888888888888888,
              "#fdca26"
             ],
             [
              1,
              "#f0f921"
             ]
            ],
            "type": "contour"
           }
          ],
          "contourcarpet": [
           {
            "colorbar": {
             "outlinewidth": 0,
             "ticks": ""
            },
            "type": "contourcarpet"
           }
          ],
          "heatmap": [
           {
            "colorbar": {
             "outlinewidth": 0,
             "ticks": ""
            },
            "colorscale": [
             [
              0,
              "#0d0887"
             ],
             [
              0.1111111111111111,
              "#46039f"
             ],
             [
              0.2222222222222222,
              "#7201a8"
             ],
             [
              0.3333333333333333,
              "#9c179e"
             ],
             [
              0.4444444444444444,
              "#bd3786"
             ],
             [
              0.5555555555555556,
              "#d8576b"
             ],
             [
              0.6666666666666666,
              "#ed7953"
             ],
             [
              0.7777777777777778,
              "#fb9f3a"
             ],
             [
              0.8888888888888888,
              "#fdca26"
             ],
             [
              1,
              "#f0f921"
             ]
            ],
            "type": "heatmap"
           }
          ],
          "heatmapgl": [
           {
            "colorbar": {
             "outlinewidth": 0,
             "ticks": ""
            },
            "colorscale": [
             [
              0,
              "#0d0887"
             ],
             [
              0.1111111111111111,
              "#46039f"
             ],
             [
              0.2222222222222222,
              "#7201a8"
             ],
             [
              0.3333333333333333,
              "#9c179e"
             ],
             [
              0.4444444444444444,
              "#bd3786"
             ],
             [
              0.5555555555555556,
              "#d8576b"
             ],
             [
              0.6666666666666666,
              "#ed7953"
             ],
             [
              0.7777777777777778,
              "#fb9f3a"
             ],
             [
              0.8888888888888888,
              "#fdca26"
             ],
             [
              1,
              "#f0f921"
             ]
            ],
            "type": "heatmapgl"
           }
          ],
          "histogram": [
           {
            "marker": {
             "pattern": {
              "fillmode": "overlay",
              "size": 10,
              "solidity": 0.2
             }
            },
            "type": "histogram"
           }
          ],
          "histogram2d": [
           {
            "colorbar": {
             "outlinewidth": 0,
             "ticks": ""
            },
            "colorscale": [
             [
              0,
              "#0d0887"
             ],
             [
              0.1111111111111111,
              "#46039f"
             ],
             [
              0.2222222222222222,
              "#7201a8"
             ],
             [
              0.3333333333333333,
              "#9c179e"
             ],
             [
              0.4444444444444444,
              "#bd3786"
             ],
             [
              0.5555555555555556,
              "#d8576b"
             ],
             [
              0.6666666666666666,
              "#ed7953"
             ],
             [
              0.7777777777777778,
              "#fb9f3a"
             ],
             [
              0.8888888888888888,
              "#fdca26"
             ],
             [
              1,
              "#f0f921"
             ]
            ],
            "type": "histogram2d"
           }
          ],
          "histogram2dcontour": [
           {
            "colorbar": {
             "outlinewidth": 0,
             "ticks": ""
            },
            "colorscale": [
             [
              0,
              "#0d0887"
             ],
             [
              0.1111111111111111,
              "#46039f"
             ],
             [
              0.2222222222222222,
              "#7201a8"
             ],
             [
              0.3333333333333333,
              "#9c179e"
             ],
             [
              0.4444444444444444,
              "#bd3786"
             ],
             [
              0.5555555555555556,
              "#d8576b"
             ],
             [
              0.6666666666666666,
              "#ed7953"
             ],
             [
              0.7777777777777778,
              "#fb9f3a"
             ],
             [
              0.8888888888888888,
              "#fdca26"
             ],
             [
              1,
              "#f0f921"
             ]
            ],
            "type": "histogram2dcontour"
           }
          ],
          "mesh3d": [
           {
            "colorbar": {
             "outlinewidth": 0,
             "ticks": ""
            },
            "type": "mesh3d"
           }
          ],
          "parcoords": [
           {
            "line": {
             "colorbar": {
              "outlinewidth": 0,
              "ticks": ""
             }
            },
            "type": "parcoords"
           }
          ],
          "pie": [
           {
            "automargin": true,
            "type": "pie"
           }
          ],
          "scatter": [
           {
            "fillpattern": {
             "fillmode": "overlay",
             "size": 10,
             "solidity": 0.2
            },
            "type": "scatter"
           }
          ],
          "scatter3d": [
           {
            "line": {
             "colorbar": {
              "outlinewidth": 0,
              "ticks": ""
             }
            },
            "marker": {
             "colorbar": {
              "outlinewidth": 0,
              "ticks": ""
             }
            },
            "type": "scatter3d"
           }
          ],
          "scattercarpet": [
           {
            "marker": {
             "colorbar": {
              "outlinewidth": 0,
              "ticks": ""
             }
            },
            "type": "scattercarpet"
           }
          ],
          "scattergeo": [
           {
            "marker": {
             "colorbar": {
              "outlinewidth": 0,
              "ticks": ""
             }
            },
            "type": "scattergeo"
           }
          ],
          "scattergl": [
           {
            "marker": {
             "colorbar": {
              "outlinewidth": 0,
              "ticks": ""
             }
            },
            "type": "scattergl"
           }
          ],
          "scattermapbox": [
           {
            "marker": {
             "colorbar": {
              "outlinewidth": 0,
              "ticks": ""
             }
            },
            "type": "scattermapbox"
           }
          ],
          "scatterpolar": [
           {
            "marker": {
             "colorbar": {
              "outlinewidth": 0,
              "ticks": ""
             }
            },
            "type": "scatterpolar"
           }
          ],
          "scatterpolargl": [
           {
            "marker": {
             "colorbar": {
              "outlinewidth": 0,
              "ticks": ""
             }
            },
            "type": "scatterpolargl"
           }
          ],
          "scatterternary": [
           {
            "marker": {
             "colorbar": {
              "outlinewidth": 0,
              "ticks": ""
             }
            },
            "type": "scatterternary"
           }
          ],
          "surface": [
           {
            "colorbar": {
             "outlinewidth": 0,
             "ticks": ""
            },
            "colorscale": [
             [
              0,
              "#0d0887"
             ],
             [
              0.1111111111111111,
              "#46039f"
             ],
             [
              0.2222222222222222,
              "#7201a8"
             ],
             [
              0.3333333333333333,
              "#9c179e"
             ],
             [
              0.4444444444444444,
              "#bd3786"
             ],
             [
              0.5555555555555556,
              "#d8576b"
             ],
             [
              0.6666666666666666,
              "#ed7953"
             ],
             [
              0.7777777777777778,
              "#fb9f3a"
             ],
             [
              0.8888888888888888,
              "#fdca26"
             ],
             [
              1,
              "#f0f921"
             ]
            ],
            "type": "surface"
           }
          ],
          "table": [
           {
            "cells": {
             "fill": {
              "color": "#EBF0F8"
             },
             "line": {
              "color": "white"
             }
            },
            "header": {
             "fill": {
              "color": "#C8D4E3"
             },
             "line": {
              "color": "white"
             }
            },
            "type": "table"
           }
          ]
         },
         "layout": {
          "annotationdefaults": {
           "arrowcolor": "#2a3f5f",
           "arrowhead": 0,
           "arrowwidth": 1
          },
          "autotypenumbers": "strict",
          "coloraxis": {
           "colorbar": {
            "outlinewidth": 0,
            "ticks": ""
           }
          },
          "colorscale": {
           "diverging": [
            [
             0,
             "#8e0152"
            ],
            [
             0.1,
             "#c51b7d"
            ],
            [
             0.2,
             "#de77ae"
            ],
            [
             0.3,
             "#f1b6da"
            ],
            [
             0.4,
             "#fde0ef"
            ],
            [
             0.5,
             "#f7f7f7"
            ],
            [
             0.6,
             "#e6f5d0"
            ],
            [
             0.7,
             "#b8e186"
            ],
            [
             0.8,
             "#7fbc41"
            ],
            [
             0.9,
             "#4d9221"
            ],
            [
             1,
             "#276419"
            ]
           ],
           "sequential": [
            [
             0,
             "#0d0887"
            ],
            [
             0.1111111111111111,
             "#46039f"
            ],
            [
             0.2222222222222222,
             "#7201a8"
            ],
            [
             0.3333333333333333,
             "#9c179e"
            ],
            [
             0.4444444444444444,
             "#bd3786"
            ],
            [
             0.5555555555555556,
             "#d8576b"
            ],
            [
             0.6666666666666666,
             "#ed7953"
            ],
            [
             0.7777777777777778,
             "#fb9f3a"
            ],
            [
             0.8888888888888888,
             "#fdca26"
            ],
            [
             1,
             "#f0f921"
            ]
           ],
           "sequentialminus": [
            [
             0,
             "#0d0887"
            ],
            [
             0.1111111111111111,
             "#46039f"
            ],
            [
             0.2222222222222222,
             "#7201a8"
            ],
            [
             0.3333333333333333,
             "#9c179e"
            ],
            [
             0.4444444444444444,
             "#bd3786"
            ],
            [
             0.5555555555555556,
             "#d8576b"
            ],
            [
             0.6666666666666666,
             "#ed7953"
            ],
            [
             0.7777777777777778,
             "#fb9f3a"
            ],
            [
             0.8888888888888888,
             "#fdca26"
            ],
            [
             1,
             "#f0f921"
            ]
           ]
          },
          "colorway": [
           "#636efa",
           "#EF553B",
           "#00cc96",
           "#ab63fa",
           "#FFA15A",
           "#19d3f3",
           "#FF6692",
           "#B6E880",
           "#FF97FF",
           "#FECB52"
          ],
          "font": {
           "color": "#2a3f5f"
          },
          "geo": {
           "bgcolor": "white",
           "lakecolor": "white",
           "landcolor": "#E5ECF6",
           "showlakes": true,
           "showland": true,
           "subunitcolor": "white"
          },
          "hoverlabel": {
           "align": "left"
          },
          "hovermode": "closest",
          "mapbox": {
           "style": "light"
          },
          "paper_bgcolor": "white",
          "plot_bgcolor": "#E5ECF6",
          "polar": {
           "angularaxis": {
            "gridcolor": "white",
            "linecolor": "white",
            "ticks": ""
           },
           "bgcolor": "#E5ECF6",
           "radialaxis": {
            "gridcolor": "white",
            "linecolor": "white",
            "ticks": ""
           }
          },
          "scene": {
           "xaxis": {
            "backgroundcolor": "#E5ECF6",
            "gridcolor": "white",
            "gridwidth": 2,
            "linecolor": "white",
            "showbackground": true,
            "ticks": "",
            "zerolinecolor": "white"
           },
           "yaxis": {
            "backgroundcolor": "#E5ECF6",
            "gridcolor": "white",
            "gridwidth": 2,
            "linecolor": "white",
            "showbackground": true,
            "ticks": "",
            "zerolinecolor": "white"
           },
           "zaxis": {
            "backgroundcolor": "#E5ECF6",
            "gridcolor": "white",
            "gridwidth": 2,
            "linecolor": "white",
            "showbackground": true,
            "ticks": "",
            "zerolinecolor": "white"
           }
          },
          "shapedefaults": {
           "line": {
            "color": "#2a3f5f"
           }
          },
          "ternary": {
           "aaxis": {
            "gridcolor": "white",
            "linecolor": "white",
            "ticks": ""
           },
           "baxis": {
            "gridcolor": "white",
            "linecolor": "white",
            "ticks": ""
           },
           "bgcolor": "#E5ECF6",
           "caxis": {
            "gridcolor": "white",
            "linecolor": "white",
            "ticks": ""
           }
          },
          "title": {
           "x": 0.05
          },
          "xaxis": {
           "automargin": true,
           "gridcolor": "white",
           "linecolor": "white",
           "ticks": "",
           "title": {
            "standoff": 15
           },
           "zerolinecolor": "white",
           "zerolinewidth": 2
          },
          "yaxis": {
           "automargin": true,
           "gridcolor": "white",
           "linecolor": "white",
           "ticks": "",
           "title": {
            "standoff": 15
           },
           "zerolinecolor": "white",
           "zerolinewidth": 2
          }
         }
        },
        "width": 800,
        "xaxis": {
         "anchor": "y",
         "domain": [
          0,
          1
         ],
         "title": {
          "text": "agent_name"
         }
        },
        "yaxis": {
         "anchor": "x",
         "domain": [
          0,
          1
         ],
         "title": {
          "text": "aggregate_score"
         }
        }
       }
      }
     },
     "metadata": {},
     "output_type": "display_data"
    }
   ],
   "source": [
    "import plotly.express as px\n",
    "\n",
    "aggregate = (\n",
    "    result_df.groupby([\"agent_name\", \"task\"])[[\"aggregate_score\"]].mean().reset_index()\n",
    ")\n",
    "fig = px.bar(aggregate, x=\"agent_name\", y=\"aggregate_score\", color=\"task\")\n",
    "fig.update_layout(\n",
    "    barmode=\"group\", width=len(aggregate[\"agent_name\"].unique()) * 200 + 200\n",
    ")"
   ]
  },
  {
   "cell_type": "code",
   "execution_count": null,
   "metadata": {},
   "outputs": [],
   "source": []
  }
 ],
 "metadata": {
  "kernelspec": {
   "display_name": "agents",
   "language": "python",
   "name": "python3"
  },
  "language_info": {
   "codemirror_mode": {
    "name": "ipython",
    "version": 3
   },
   "file_extension": ".py",
   "mimetype": "text/x-python",
   "name": "python",
   "nbconvert_exporter": "python",
   "pygments_lexer": "ipython3",
   "version": "3.11.6"
  }
 },
 "nbformat": 4,
 "nbformat_minor": 2
}
